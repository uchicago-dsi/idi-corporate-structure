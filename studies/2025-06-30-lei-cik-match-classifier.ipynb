{
 "cells": [
  {
   "cell_type": "code",
   "execution_count": 1,
   "id": "c2396dd5-a44d-42fe-9675-6bc6acf4f4de",
   "metadata": {},
   "outputs": [],
   "source": [
    "import numpy as np\n",
    "import pandas as pd\n",
    "import matplotlib.pyplot as plt\n",
    "import matplotlib as mpl"
   ]
  },
  {
   "cell_type": "code",
   "execution_count": 2,
   "id": "af690b5b-312a-4a36-8050-66e82a092f6d",
   "metadata": {},
   "outputs": [],
   "source": [
    "default_colors = plt.rcParams[\"axes.prop_cycle\"].by_key()[\"color\"]"
   ]
  },
  {
   "cell_type": "code",
   "execution_count": 3,
   "id": "292d6ec8-46f4-43cb-b7ef-9d459e57550f",
   "metadata": {},
   "outputs": [],
   "source": [
    "registry = pd.read_csv(\"~/Box/dsi-core/11th-hour/idi-corporate-structure/20250630-0800-gleif-goldencopy-lei2-golden-copy.csv\", low_memory=False)"
   ]
  },
  {
   "cell_type": "code",
   "execution_count": 4,
   "id": "5b781ec9-c25c-4e6a-ac14-3d914c4af5e0",
   "metadata": {},
   "outputs": [],
   "source": [
    "sec2023 = pd.read_csv(\"../data/sec-2023.csv\")"
   ]
  },
  {
   "cell_type": "code",
   "execution_count": 5,
   "id": "7cb6548a-f040-464e-bb09-54d1fa41d3a8",
   "metadata": {},
   "outputs": [],
   "source": [
    "good_matches = pd.DataFrame([\n",
    "    {\"LEI\": \"HQD377W2YR662HK5JX27\", \"CIK\": \"0000001800\"},\n",
    "    {\"LEI\": \"9C1X8XOOTYY2FNYTVH06\", \"CIK\": \"0000040533\"},\n",
    "    {\"LEI\": \"3C7474T6CDKPR9K6YT90\", \"CIK\": \"0000040545\"},\n",
    "    {\"LEI\": \"549300XMP3KDCKJXIU47\", \"CIK\": \"0000062709\"},\n",
    "    {\"LEI\": \"549300ZFEEJ2IP5VME73\", \"CIK\": \"0000093751\"},\n",
    "    {\"LEI\": \"WHENKOULSSK7WUM60H03\", \"CIK\": \"0000106640\"},\n",
    "    {\"LEI\": \"PBJHNT51T5V6G5UQFV42\", \"CIK\": \"0000351569\"},\n",
    "    {\"LEI\": \"529900E95812SYWMCE44\", \"CIK\": \"0000723612\"},\n",
    "    {\"LEI\": \"ORQTRC074CWLT3DKHT41\", \"CIK\": \"0000740260\"},\n",
    "    {\"LEI\": \"549300J4ZRR1SZF4ES33\", \"CIK\": \"0000783325\"},\n",
    "    {\"LEI\": \"549300IGLYTZUK3PVP70\", \"CIK\": \"0000783325\"},\n",
    "    {\"LEI\": \"FU4LY2G4933NH2E1CP29\", \"CIK\": \"0000796343\"},\n",
    "    {\"LEI\": \"549300D3L3G0R4U4VT04\", \"CIK\": \"0000820313\"},\n",
    "    {\"LEI\": \"549300LRGRD8XC9BTL66\", \"CIK\": \"0000851310\"},\n",
    "    {\"LEI\": \"549300HWF93HB8BDM648\", \"CIK\": \"0000883237\"},\n",
    "    {\"LEI\": \"784F5XWPLTWKTBV3E584\", \"CIK\": \"0000886982\"},\n",
    "    {\"LEI\": \"549300VFZ8XJ9NUPU221\", \"CIK\": \"0001001250\"},\n",
    "    {\"LEI\": \"SQL3F6CKNNBM3SQGHX24\", \"CIK\": \"0001020569\"},\n",
    "    {\"LEI\": \"2T3D6M0JSY48PSZI1Q41\", \"CIK\": \"0001039684\"},\n",
    "    {\"LEI\": \"P16VZZCKTJ5IONL6XE37\", \"CIK\": \"0001042729\"},\n",
    "    {\"LEI\": \"5493000C01ZX7D35SD85\", \"CIK\": \"0001067983\"},\n",
    "    {\"LEI\": \"549300UJLWOIWFDGB318\", \"CIK\": \"0001070081\"},\n",
    "    {\"LEI\": \"549300VSMO9KYQWDND94\", \"CIK\": \"0001094285\"},\n",
    "    {\"LEI\": \"54930073EK7NHVJF3D24\", \"CIK\": \"0001102432\"},\n",
    "    {\"LEI\": \"549300DV9GIB88LZ5P30\", \"CIK\": \"0001103982\"},\n",
    "    {\"LEI\": \"CUMYEZJOAF02RYZ1JJ85\", \"CIK\": \"0001126328\"},\n",
    "    {\"LEI\": \"9695005J16R56PCL8N38\", \"CIK\": \"0001140536\"},\n",
    "    {\"LEI\": \"549300WHC56FF48KL350\", \"CIK\": \"0001140536\"},\n",
    "    {\"LEI\": \"529900EVVV534W8R0T32\", \"CIK\": \"0001234006\"},\n",
    "    {\"LEI\": \"549300IH2S17MAIUCM32\", \"CIK\": \"0001273441\"},\n",
    "    {\"LEI\": \"549300NPYMLM4NHTOF27\", \"CIK\": \"0001274494\"},\n",
    "    {\"LEI\": \"MTLVN9N7JE8MIBIJ1H73\", \"CIK\": \"0001276187\"},\n",
    "    {\"LEI\": \"549300D4549QKWETZ406\", \"CIK\": \"0001336917\"},\n",
    "    {\"LEI\": \"549300NDDBVLJS24LD07\", \"CIK\": \"0001370755\"},\n",
    "    {\"LEI\": \"549300YG7Z2BC73TCX59\", \"CIK\": \"0001403161\"},\n",
    "    {\"LEI\": \"HL3H1H2BGXWVG3BSWR90\", \"CIK\": \"0001413329\"},\n",
    "    {\"LEI\": \"724500M9BY5293JDF951\", \"CIK\": \"0001413447\"},\n",
    "    {\"LEI\": \"5493007CT6ATBZ2L6826\", \"CIK\": \"0001433660\"},\n",
    "    {\"LEI\": \"549300VDIGTMXUNT7H71\", \"CIK\": \"0001551182\"},\n",
    "    {\"LEI\": \"5493005LXSLNF92BF097\", \"CIK\": \"0001572334\"},\n",
    "    {\"LEI\": \"529900E7PUVK6BC8PE80\", \"CIK\": \"0001590364\"},\n",
    "    {\"LEI\": \"549300TUSNXS3BFFML48\", \"CIK\": \"0001627014\"},\n",
    "    {\"LEI\": \"549300CMHPBEY6VPOT75\", \"CIK\": \"0001674910\"},\n",
    "    {\"LEI\": \"ISRPG12PN4EIEOEMW547\", \"CIK\": \"0001735707\"},\n",
    "    {\"LEI\": \"549300GZKULIZ0WOW665\", \"CIK\": \"0001744489\"},\n",
    "    {\"LEI\": \"2549006ALJE6NRO2Q503\", \"CIK\": \"0001764046\"},\n",
    "    {\"LEI\": \"5493008G0Y8W4B2BWL04\", \"CIK\": \"0001825079\"},\n",
    "    {\"LEI\": \"549300XR4L1D80AK4W76\", \"CIK\": \"0001834584\"},\n",
    "])"
   ]
  },
  {
   "cell_type": "code",
   "execution_count": null,
   "id": "f0b7187a-ebec-4272-a9dc-4bdd67fee2c5",
   "metadata": {},
   "outputs": [],
   "source": []
  }
 ],
 "metadata": {
  "kernelspec": {
   "display_name": "Python 3 (ipykernel)",
   "language": "python",
   "name": "python3"
  },
  "language_info": {
   "codemirror_mode": {
    "name": "ipython",
    "version": 3
   },
   "file_extension": ".py",
   "mimetype": "text/x-python",
   "name": "python",
   "nbconvert_exporter": "python",
   "pygments_lexer": "ipython3",
   "version": "3.12.10"
  }
 },
 "nbformat": 4,
 "nbformat_minor": 5
}
